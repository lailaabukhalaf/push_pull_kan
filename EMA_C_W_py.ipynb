{
  "nbformat": 4,
  "nbformat_minor": 0,
  "metadata": {
    "colab": {
      "provenance": [],
      "authorship_tag": "ABX9TyOQZPPmWVO40AD7OASfp87a",
      "include_colab_link": true
    },
    "kernelspec": {
      "name": "python3",
      "display_name": "Python 3"
    },
    "language_info": {
      "name": "python"
    }
  },
  "cells": [
    {
      "cell_type": "markdown",
      "metadata": {
        "id": "view-in-github",
        "colab_type": "text"
      },
      "source": [
        "<a href=\"https://colab.research.google.com/github/lailaabukhalaf/push_pull_kan/blob/main/EMA_C_W_py.ipynb\" target=\"_parent\"><img src=\"https://colab.research.google.com/assets/colab-badge.svg\" alt=\"Open In Colab\"/></a>"
      ]
    },
    {
      "cell_type": "code",
      "execution_count": null,
      "metadata": {
        "id": "-BH_Bru2WGFS"
      },
      "outputs": [],
      "source": [
        "import torch\n",
        "\n",
        "# EMA of parameter deltas\n",
        "class DeltaEMA:\n",
        "\n",
        "    \"\"\"\n",
        "        Initializes the DeltaEMA tracker\n",
        "\n",
        "        Args:\n",
        "            beta (float): Smoothing factor for the EMA (default: 0.9).\n",
        "                          Closer to 1.0 means slower EMA updates.\n",
        "        \"\"\"\n",
        "\n",
        "    def __init__(self, beta=0.9):\n",
        "        self.beta = beta  # Smoothing factor for EMA (closer to 1 = slower updates)\n",
        "        self.prev = {}  # Stores previous value of each parameter (by id)\n",
        "        self.ema = 0.0  # The current EMA value\n",
        "\n",
        "    @torch.no_grad()\n",
        "    def update(self, params):\n",
        "        \"\"\"\n",
        "        Updates the EMA with the mean absolute change of each parameter.\n",
        "\n",
        "        Args:\n",
        "            params (list): List of torch.nn.Parameter to track.\n",
        "\n",
        "        Returns:\n",
        "            float: The current EMA value after the update.\n",
        "        \"\"\"\n",
        "        # If no parameters provided, just return the current EMA\n",
        "\n",
        "        if not params:\n",
        "            return float(self.ema)\n",
        "        # we want to store the mean absolute changes (magnitudes)\n",
        "        mags = []\n",
        "        for p in params:\n",
        "            pid = id(p)\n",
        "            cur = p.data.detach().cpu()  # copy the current value (new value)\n",
        "\n",
        "            # If this parameter is new store its initial value and skip delta computation\n",
        "            if pid not in self.prev:\n",
        "                self.prev[pid] = cur.clone()\n",
        "                continue\n",
        "\n",
        "            # Compute mean absolute change since last step (current - previous) save the mean absolute change in the list\n",
        "            mags.append((cur - self.prev[pid]).abs().mean().item())\n",
        "\n",
        "            # Update stored previous value to current value\n",
        "            self.prev[pid] = cur.clone()  # store the current value in previous for later comparison to become the (old value)\n",
        "        if mags:\n",
        "            # Compute average delta step (current change mean)\n",
        "            step = sum(mags) / len(mags)\n",
        "            self.ema = self.beta * self.ema + (1 - self.beta) * step\n",
        "        return float(self.ema)"
      ]
    },
    {
      "cell_type": "code",
      "source": [
        "\n",
        "\n",
        "# 2) Collect parameter groups: W (scale_base/scale_sp) vs C (coef)\n",
        "\n",
        "# seen :prevents duplicates in the optimizer setup.\n",
        "# when the training loop starts, all parameters in the optimizer still get updated.\n",
        "\n",
        "def collect_kan_param_groups(model):\n",
        "    W_params, C_params, seen = [], [], set()\n",
        "    for m in model.modules():\n",
        "        if isinstance(m, KANLayer):\n",
        "            for name in (\"scale_base\", \"scale_sp\"):\n",
        "                p = getattr(m, name, None) # get an attribute from model\n",
        "                if isinstance(p, torch.nn.Parameter) and id(p) not in seen: # Check if p is a torch.nn.Parameter object\n",
        "                    W_params.append(p); seen.add(id(p))\n",
        "            p = getattr(m, \"coef\", None)\n",
        "            if isinstance(p, torch.nn.Parameter) and id(p) not in seen:\n",
        "                C_params.append(p); seen.add(id(p))\n",
        "    # for p in model.parameters():\n",
        "    #     if id(p) not in seen:\n",
        "    #         W_params.append(p); seen.add(id(p))\n",
        "\n",
        "    return W_params, C_params # returns two disjoint lists we can give two different learning rates\n"
      ],
      "metadata": {
        "id": "IDd0P3-XWJxt"
      },
      "execution_count": null,
      "outputs": []
    }
  ]
}